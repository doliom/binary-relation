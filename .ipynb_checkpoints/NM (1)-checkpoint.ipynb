{
 "cells": [
  {
   "cell_type": "code",
   "execution_count": 95,
   "metadata": {
    "id": "lshg1RbdGi8m"
   },
   "outputs": [],
   "source": [
    "import numpy as np"
   ]
  },
  {
   "cell_type": "code",
   "execution_count": 96,
   "metadata": {
    "id": "XTr5ZichGmnM"
   },
   "outputs": [],
   "source": [
    "Rn = np.array([[0, 0, 0, 0, 0, 0, 0, 0, 0, 0, 0, 0, 0, 0, 0],\n",
    "       [0, 0, 0, 0, 0, 0, 0, 0, 0, 0, 0, 0, 0, 0, 0],\n",
    "       [0, 0, 0, 1, 0, 0, 0, 0, 0, 0, 0, 0, 0, 0, 0],\n",
    "       [0, 0, 0, 0, 0, 0, 0, 0, 0, 0, 0, 0, 0, 0, 0],\n",
    "       [1, 1, 1, 1, 0, 0, 1, 0, 1, 1, 0, 1, 1, 0, 1],\n",
    "       [1, 1, 1, 1, 0, 0, 1, 0, 1, 1, 0, 1, 1, 0, 1],\n",
    "       [0, 0, 0, 0, 0, 0, 1, 0, 1, 1, 0, 1, 1, 0, 0],\n",
    "       [0, 0, 0, 0, 0, 0, 0, 0, 0, 0, 0, 0, 0, 1, 0],\n",
    "       [0, 0, 0, 0, 0, 0, 1, 0, 1, 1, 0, 1, 1, 0, 0],\n",
    "       [0, 0, 0, 0, 0, 0, 1, 0, 1, 1, 0, 1, 1, 0, 0],\n",
    "       [1, 1, 1, 1, 0, 0, 1, 0, 1, 1, 0, 1, 1, 0, 1],\n",
    "       [0, 0, 0, 0, 0, 0, 1, 0, 1, 1, 0, 1, 1, 0, 0],\n",
    "       [0, 0, 0, 0, 0, 0, 1, 0, 1, 1, 0, 1, 1, 0, 0],\n",
    "       [0, 0, 0, 0, 0, 0, 0, 1, 0, 0, 0, 0, 0, 0, 0],\n",
    "       [0, 1, 0, 0, 0, 0, 0, 0, 0, 0, 0, 0, 0, 0, 0]])"
   ]
  },
  {
   "cell_type": "code",
   "execution_count": 97,
   "metadata": {
    "id": "zTJe_SEMG818"
   },
   "outputs": [],
   "source": [
    "def get_pereriz(R):\n",
    "  verkhi_pererizy = []\n",
    "  R_t = R.T\n",
    "  for i in range(len(R)):\n",
    "    itemindex = (np.where(R_t[i]==1))[0]\n",
    "    verkhi_pererizy.append(itemindex)\n",
    "  return verkhi_pererizy "
   ]
  },
  {
   "cell_type": "code",
   "execution_count": 98,
   "metadata": {
    "id": "1soiwT-RIVNW"
   },
   "outputs": [],
   "source": [
    "def make_S0(verkhi_pererizy):\n",
    "  S, S_delta = dict(), dict()\n",
    "  \n",
    "  buffer = []\n",
    "  for a, index_for_S0 in zip(verkhi_pererizy, range(len(verkhi_pererizy))):\n",
    "    if a.size == 0:\n",
    "      buffer.append(index_for_S0)\n",
    "\n",
    "  S[\"S0\"] = buffer\n",
    "  S_delta[\"S0\"] = S[\"S0\"]\n",
    "  return S, S_delta"
   ]
  },
  {
   "cell_type": "code",
   "execution_count": 99,
   "metadata": {
    "id": "PfqBBR_CLqir"
   },
   "outputs": [],
   "source": [
    "def make_S(S, S_delta, R, verkhi_pererizy):\n",
    "  current_i = 0\n",
    "  l = 0\n",
    "  while(len(S[\"S\"+str(current_i)])!= len(R)):\n",
    "    buffer = []\n",
    "    \n",
    "    for a, index in zip(verkhi_pererizy, range(len(verkhi_pererizy))):\n",
    "      inclusion_check = np.in1d(a, S[\"S\"+str(current_i)]) # индекс предыдущего S. Если щас находим S1,то тут должна быть S0\n",
    "      \n",
    "      if np.all(inclusion_check == True):\n",
    "        buffer.append(index)\n",
    "\n",
    "    if buffer == S[\"S\"+str(current_i)]: # если поточне = попередньому \n",
    "      buffer += list(set(range(len(verkhi_pererizy))) - set(S[\"S\"+str(current_i)]))\n",
    "\n",
    "    current_i += 1\n",
    "    l += 1\n",
    "    S[\"S\"+str(current_i)] = buffer\n",
    "    delta = list(set(S[\"S\"+str(current_i)]) - set(S[\"S\"+str(current_i-1)]))\n",
    "    S_delta[\"S\"+str(current_i)+\"_d\"] = delta \n",
    "  return S, S_delta, l"
   ]
  },
  {
   "cell_type": "code",
   "execution_count": 100,
   "metadata": {
    "id": "nrzXJgEEN1AP"
   },
   "outputs": [],
   "source": [
    "def make_Q(S_delta, Q, verkhi_pererizy, L):\n",
    "  buffer = []\n",
    "  for l in range(1,L+1):\n",
    "    for delta in S_delta[\"S\"+str(l)+\"_d\"]:\n",
    "      inclusion_check = np.in1d(verkhi_pererizy[delta], Q[\"Q\"+str(l-1)])\n",
    "\n",
    "      if np.all(inclusion_check == False):\n",
    "        buffer.append(delta)\n",
    "\n",
    "    Q[\"Q\"+str(l)] = Q[\"Q\"+str(l-1)] + buffer\n",
    "    \n",
    "  return Q"
   ]
  },
  {
   "cell_type": "code",
   "execution_count": 110,
   "metadata": {
    "id": "vTA4J_eZGnz2"
   },
   "outputs": [],
   "source": [
    "def Neumann_Morgenstern_optimization(R):\n",
    "  verkhi_pererizy = get_pereriz(R) #знаходимо верхні перерізи для всіх альтернатив\n",
    "\n",
    "  S, S_delta, Q = dict(), dict(), dict()\n",
    "\n",
    "  S, S_delta = make_S0(verkhi_pererizy) #S0\n",
    "  # print(S, S_delta)\n",
    "\n",
    "  S, S_delta, l = make_S(S, S_delta, R, verkhi_pererizy) #STEP 1\n",
    "  # print(S)\n",
    "  # print(S_delta)\n",
    "  # print(l)\n",
    "\n",
    "  Q[\"Q0\"] = S[\"S0\"] #Q0\n",
    "  Q = make_Q(S_delta, Q, verkhi_pererizy, l) #STEP 2\n",
    "  print(Q)\n",
    "  print(S)\n",
    "  print(S_delta)\n",
    "  С0 = Q[\"Q\"+str(l)]\n",
    "  С = [x+1 for x in С0] \n",
    "  return С"
   ]
  },
  {
   "cell_type": "code",
   "execution_count": 112,
   "metadata": {
    "colab": {
     "base_uri": "https://localhost:8080/"
    },
    "id": "xHCzg4d4HYE6",
    "outputId": "b1d3fc48-841b-4453-c352-3073e937aae6"
   },
   "outputs": [
    {
     "name": "stdout",
     "output_type": "stream",
     "text": [
      "{'Q0': [4, 5, 10], 'Q1': [4, 5, 10], 'Q2': [4, 5, 10], 'Q3': [4, 5, 10, 7, 13]}\n",
      "{'S0': [4, 5, 10], 'S1': [0, 2, 4, 5, 10, 14], 'S2': [0, 1, 2, 3, 4, 5, 10, 14], 'S3': [0, 1, 2, 3, 4, 5, 10, 14, 6, 7, 8, 9, 11, 12, 13]}\n",
      "{'S0': [4, 5, 10], 'S1_d': [0, 2, 14], 'S2_d': [1, 3], 'S3_d': [6, 7, 8, 9, 11, 12, 13]}\n"
     ]
    },
    {
     "data": {
      "text/plain": [
       "[5, 6, 11, 8, 14]"
      ]
     },
     "execution_count": 112,
     "metadata": {
      "tags": []
     },
     "output_type": "execute_result"
    }
   ],
   "source": [
    "Neumann_Morgenstern_optimization(Rn)"
   ]
  },
  {
   "cell_type": "code",
   "execution_count": 103,
   "metadata": {
    "id": "Evs1wTvKHbPY"
   },
   "outputs": [],
   "source": [
    "K = np.array([[0,0,0,0,1,0,1,0,0,0],\n",
    "              [0,0,0,0,1,0,1,0,0,1],\n",
    "              [0,0,0,0,1,1,1,0,0,0],\n",
    "              [1,0,0,0,0,1,1,0,0,1],\n",
    "              [0,0,0,0,0,0,0,0,0,0],\n",
    "              [0,0,0,0,0,0,0,0,0,0],\n",
    "              [0,0,0,0,0,0,0,0,0,1],\n",
    "              [1,0,0,0,0,0,1,0,0,1],\n",
    "              [0,1,0,0,1,0,0,0,0,0],\n",
    "              [0,0,0,0,0,0,0,0,0,0]])"
   ]
  },
  {
   "cell_type": "code",
   "execution_count": 111,
   "metadata": {
    "colab": {
     "base_uri": "https://localhost:8080/"
    },
    "id": "I70bEYYTTUXZ",
    "outputId": "e2fa9c0e-aee5-42cc-8909-96ba7bf6d106"
   },
   "outputs": [
    {
     "name": "stdout",
     "output_type": "stream",
     "text": [
      "{'Q0': [2, 3, 7, 8], 'Q1': [2, 3, 7, 8], 'Q2': [2, 3, 7, 8], 'Q3': [2, 3, 7, 8]}\n",
      "{'S0': [2, 3, 7, 8], 'S1': [0, 1, 2, 3, 5, 7, 8], 'S2': [0, 1, 2, 3, 4, 5, 6, 7, 8], 'S3': [0, 1, 2, 3, 4, 5, 6, 7, 8, 9]}\n",
      "{'S0': [2, 3, 7, 8], 'S1_d': [0, 1, 5], 'S2_d': [4, 6], 'S3_d': [9]}\n"
     ]
    },
    {
     "data": {
      "text/plain": [
       "[3, 4, 8, 9]"
      ]
     },
     "execution_count": 111,
     "metadata": {
      "tags": []
     },
     "output_type": "execute_result"
    }
   ],
   "source": [
    "Neumann_Morgenstern_optimization(K)"
   ]
  },
  {
   "cell_type": "code",
   "execution_count": 113,
   "metadata": {
    "id": "-1b9MQj7TV4R"
   },
   "outputs": [],
   "source": [
    "R8 =  np.array([[0, 0,  1,  0,  1,  0,  1,  0,  1,  0,  1,  0,  0,  0, 1],\n",
    " [1,  0,  1,  0,  0,  1,  0,  0,  1,  0,  0,  0,  0,  1,  0], \n",
    " [0,  0,  0,  0,  1,  0,  0,  0,  0,  1,  0,  1,  1,  1,  0],\n",
    " [1, 1,  1,  0,  0,  0 , 0 , 0,  1,  1,  0,  1,  1,  1,  0] ,\n",
    " [0, 1,  0,  1 , 0,  0,  0,  0,  0,  1,  1,  0,  1,  0,  0] ,\n",
    " [1,  0,  1,  1,  1,  0,  0,  0,  1,  1,  1,  0,  1 , 0,  0] ,\n",
    " [0,  1,  1,  1,  1,  1,  0,  1,  1,  1,  0,  1,  1,  1,  0] ,\n",
    " [1,  1,  1,  1,  1,  1,  0,  0,  1,  1,  0,  0,  1,  0,  1] ,\n",
    " [0,  0,  1,  0,  1,  0,  0,  0,  0,  1,  1,  0,  1,  1,  1] ,\n",
    " [1,  1,  0,  0,  0,  0,  0,  0,  0,  0,  1,  1,  0,  0,  1] ,\n",
    " [0,  1,  1,  1,  0,  0,  1,  1,  0,  0 , 0,  0,  1,  1,  0] ,\n",
    " [1,  1,  0,  0,  1,  1,  0,  1,  1,  0,  1,  0,  1,  0,  1] ,\n",
    " [1,  1,  0,  0,  0,  0,  0,  0,  0,  1,  0,  0,  0,  1,  0] ,\n",
    " [1,  0,  0 , 0,  1,  1,  0,  1,  0,  1,  0,  1,  0,  0,  0] ,\n",
    " [0,  1,  1,  1,  1,  1,  1,  0,  0,  0,  1,  0,  1,  1,  0]])"
   ]
  },
  {
   "cell_type": "code",
   "execution_count": 114,
   "metadata": {
    "colab": {
     "base_uri": "https://localhost:8080/"
    },
    "id": "Jfpy240cXXoy",
    "outputId": "d4f0a046-8c7a-4bc2-f8fe-8c1977f5d5c5"
   },
   "outputs": [
    {
     "name": "stdout",
     "output_type": "stream",
     "text": [
      "{'Q0': [], 'Q1': [0, 1, 2, 3, 4, 5, 6, 7, 8, 9, 10, 11, 12, 13, 14]}\n",
      "{'S0': [], 'S1': [0, 1, 2, 3, 4, 5, 6, 7, 8, 9, 10, 11, 12, 13, 14]}\n",
      "{'S0': [], 'S1_d': [0, 1, 2, 3, 4, 5, 6, 7, 8, 9, 10, 11, 12, 13, 14]}\n"
     ]
    },
    {
     "data": {
      "text/plain": [
       "[1, 2, 3, 4, 5, 6, 7, 8, 9, 10, 11, 12, 13, 14, 15]"
      ]
     },
     "execution_count": 114,
     "metadata": {
      "tags": []
     },
     "output_type": "execute_result"
    }
   ],
   "source": [
    "Neumann_Morgenstern_optimization(R8)"
   ]
  },
  {
   "cell_type": "code",
   "execution_count": null,
   "metadata": {
    "id": "F2ddByeyXZ0F"
   },
   "outputs": [],
   "source": [
    ""
   ]
  }
 ],
 "metadata": {
  "colab": {
   "name": "NM.ipynb",
   "provenance": []
  },
  "kernelspec": {
   "display_name": "Python 3",
   "name": "python3"
  }
 },
 "nbformat": 4,
 "nbformat_minor": 0
}
