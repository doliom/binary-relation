{
 "cells": [
  {
   "cell_type": "code",
   "execution_count": 1,
   "metadata": {},
   "outputs": [
    {
     "name": "stdout",
     "output_type": "stream",
     "text": [
      "True\n",
      "True\n",
      "True\n"
     ]
    }
   ],
   "source": [
    "class Graph():\n",
    "    def __init__(self, node_list):\n",
    "        self.node_list = node_list\n",
    "        self.node_dict = {}\n",
    "\n",
    "    def is_cyclic(self):\n",
    "        #convert list to a dictionary to know which nodes are adjacent\n",
    "        for i, node in enumerate(self.node_list):\n",
    "            self.node_dict[i] = node\n",
    "        searched = {state : False for state in self.node_dict} #set searched to false for all initially\n",
    "        cyclic = [False]\n",
    "    \n",
    "        for state in self.node_dict:\n",
    "            if not searched[state]:\n",
    "                self.search(state, cyclic, state, searched) #initial search has no predecessor so passes the state of the initial node twice.\n",
    "            if cyclic[0]:\n",
    "                break\n",
    "        return cyclic[0]\n",
    "    \n",
    "    #Search checks node and its neighbors for a cycle\n",
    "    def search(self, state, cyclic, predecessor, searched):\n",
    "        if cyclic[0]:\n",
    "            return\n",
    "        searched[state] = True #node has been searched so will not be searched again\n",
    "        for neighbor in self.node_dict[state]:\n",
    "            if searched[neighbor] and neighbor != predecessor: #check if neighbor is marked but not previous node, if true it is cyclical\n",
    "                cyclic[0] = True\n",
    "                return\n",
    "            if not searched[neighbor]:\n",
    "                self.search(neighbor, cyclic, state, searched) #if neighbor hasn't been searched, repeat search until cycle is found or ends\n",
    "\n",
    "graph1 = Graph([[1,4], [0,2], [0,1,3,4], [2,4], [2,3]])\n",
    "print(graph1.is_cyclic()) #returns true\n",
    "\n",
    "graph2 = Graph([[1], [0,2,3,5], [1], [1,4], [3,5], [1,4] ])\n",
    "print(graph2.is_cyclic()) #returns true\n",
    "\n",
    "graph3 = Graph([[1,2], [2], []])\n",
    "print(graph3.is_cyclic()) #returns false"
   ]
  },
  {
   "cell_type": "code",
   "execution_count": 2,
   "metadata": {},
   "outputs": [],
   "source": [
    "def has_cycle(graph):\n",
    "\t# print(graph) #prints for referrence\n",
    "\n",
    "\t#edge cases, check if the graph is empty \n",
    "\tif graph is None or len(graph) == 0:\n",
    "\t\treturn False\n",
    "\n",
    "\t#dictionary to keep track of visited and unvisited elements. \n",
    "\tvisited = {}\n",
    "\n",
    "\t#Inialize all indexes/vertices as not visited (false)\n",
    "\tfor i in range(0,len(graph)):\n",
    "\t\tvisited[i] = False\n",
    "\n",
    "\n",
    "\t#Auxiliary functino to traverse the graph using DFS recursively, taking the current node, the visited list, and the parent as paremeters\n",
    "\tdef dfs(curr, visited, parent):\n",
    "\t\t# print(\"curr: \", curr, \" parent \", parent)  #prints for referrence\n",
    "\n",
    "\t\t#check the current node to visited. \n",
    "\t\tvisited[curr] = True\n",
    "\n",
    "\t\t#visit each neighbor of each vertex in the graph\n",
    "\t\tfor v in graph[curr]:\n",
    "\n",
    "\t\t\t#if the neighboor is not visited, then visit it. \n",
    "\t\t\tif not visited[v]:\n",
    "\t\t\t\t#visit the next neighbor recursively.\n",
    "\t\t\t\tif dfs(v, visited, curr):\n",
    "\t\t\t\t\treturn True\n",
    "\n",
    "\t\t\t#this checks if there is a cycle in the graph or not. \n",
    "\t\t\t#if the next neightbor was already visited and is not the parent vertex, then we have a cycle.\n",
    "\t\t\telif v != parent:\n",
    "\t\t\t\treturn True\n",
    "\n",
    "\t\t#this is returned if there is no cycle found. \n",
    "\t\treturn False\n",
    "\n",
    "\n",
    "\t#Check every vertex inc ase the graph is disconnected.\n",
    "\tfor u in range(0, len(graph)):\n",
    "\t\tif not visited[u]:\n",
    "\t\t\tif dfs(u, visited, -1):\n",
    "\t\t\t\treturn True\n",
    "\n",
    "\treturn False\t"
   ]
  },
  {
   "cell_type": "code",
   "execution_count": null,
   "metadata": {},
   "outputs": [],
   "source": [
    "has"
   ]
  }
 ],
 "metadata": {
  "kernelspec": {
   "display_name": "Python 3",
   "language": "python",
   "name": "python3"
  },
  "language_info": {
   "codemirror_mode": {
    "name": "ipython",
    "version": 3
   },
   "file_extension": ".py",
   "mimetype": "text/x-python",
   "name": "python",
   "nbconvert_exporter": "python",
   "pygments_lexer": "ipython3",
   "version": "3.7.6"
  }
 },
 "nbformat": 4,
 "nbformat_minor": 4
}
