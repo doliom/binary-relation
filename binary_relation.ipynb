{
 "cells": [
  {
   "cell_type": "code",
   "execution_count": 235,
   "metadata": {},
   "outputs": [],
   "source": [
    "import numpy as np"
   ]
  },
  {
   "cell_type": "markdown",
   "metadata": {},
   "source": [
    "#### Read data from file"
   ]
  },
  {
   "cell_type": "code",
   "execution_count": 236,
   "metadata": {},
   "outputs": [],
   "source": [
    "with open (\"data.txt\", 'r') as data: #read data \n",
    "    dataset = [[int(x) for x in line.split()] for line in data]  "
   ]
  },
  {
   "cell_type": "code",
   "execution_count": 237,
   "metadata": {},
   "outputs": [
    {
     "name": "stdout",
     "output_type": "stream",
     "text": [
      "Number of R: 10\n"
     ]
    }
   ],
   "source": [
    "make_R = lambda lst, sz: [lst[i:i+sz] for i in range(0, len(lst), sz)]\n",
    "R = make_R(dataset, 15)\n",
    "print(\"Number of R: {}\".format(len(R)))"
   ]
  },
  {
   "cell_type": "markdown",
   "metadata": {},
   "source": [
    "#### K-optimization"
   ]
  },
  {
   "cell_type": "code",
   "execution_count": 239,
   "metadata": {},
   "outputs": [],
   "source": [
    "def check_x(S):\n",
    "    max_k = np.array([])\n",
    "    opt_k = np.array([])\n",
    "    for i, x in zip(range(len(S)),S):\n",
    "        if np.any(S-x > 0): #формуємо множину k-макс. елементів\n",
    "            continue\n",
    "        max_k = np.append(max_k, i+1)\n",
    "        if np.sum(x) == 15: #формуємо множину k-опт. елементів\n",
    "            opt_k = np.append(opt_k, i+1)\n",
    "        \n",
    "    return max_k, opt_k"
   ]
  },
  {
   "cell_type": "code",
   "execution_count": 256,
   "metadata": {},
   "outputs": [],
   "source": [
    "def k_optimization(Rn):\n",
    "    I = (Rn == Rn.T)*Rn #формуємо симетричну частину\n",
    "    P = Rn-I #формуємо асиметричну частину\n",
    "    N = (Rn == Rn.T)-I #формуємо відношення непорівнюваності\n",
    "    \n",
    "    for i in range(1,5):\n",
    "        if i==1:\n",
    "            S1=I+P+N\n",
    "            max_1, opt_1 = check_x(S1)\n",
    "        elif i==2:\n",
    "            S2=P+N\n",
    "            max_2, opt_2 = check_x(S2)\n",
    "        elif i==3:\n",
    "            S3=P+I\n",
    "            max_3, opt_3 = check_x(S3)\n",
    "        elif i==4:\n",
    "            S4=P\n",
    "            max_4, opt_4 = check_x(S4)\n",
    "            \n",
    "    parameters = {\"1_max\": max_1,\n",
    "                 \"1_opt\": opt_1,\n",
    "                 \"2_max\": max_2,\n",
    "                 \"2_opt\": opt_2,\n",
    "                 \"3_max\": max_3,\n",
    "                 \"3_opt\": opt_3,\n",
    "                 \"4_max\": max_4,\n",
    "                 \"4_opt\": opt_4}\n",
    "    \n",
    "    return parameters"
   ]
  },
  {
   "cell_type": "code",
   "execution_count": 257,
   "metadata": {
    "scrolled": true
   },
   "outputs": [
    {
     "name": "stdout",
     "output_type": "stream",
     "text": [
      "____R0____\n",
      "1-max: [3.]\n",
      "1-opt: [3.]\n",
      "2-max: [3.]\n",
      "2-opt: []\n",
      "3-max: [3.]\n",
      "3-opt: [3.]\n",
      "4-max: []\n",
      "4-opt: []\n",
      "____R1____\n",
      "1-max: [3.]\n",
      "1-opt: [3.]\n",
      "2-max: [3.]\n",
      "2-opt: [3.]\n",
      "3-max: []\n",
      "3-opt: []\n",
      "4-max: []\n",
      "4-opt: []\n",
      "____R2____\n",
      "1-max: [2.]\n",
      "1-opt: [2.]\n",
      "2-max: [2.]\n",
      "2-opt: [2.]\n",
      "3-max: []\n",
      "3-opt: []\n",
      "4-max: []\n",
      "4-opt: []\n",
      "____R3____\n",
      "1-max: []\n",
      "1-opt: []\n",
      "2-max: []\n",
      "2-opt: []\n",
      "3-max: []\n",
      "3-opt: []\n",
      "4-max: []\n",
      "4-opt: []\n",
      "____R4____\n",
      "1-max: [1.]\n",
      "1-opt: [1.]\n",
      "2-max: [1.]\n",
      "2-opt: [1.]\n",
      "3-max: []\n",
      "3-opt: []\n",
      "4-max: []\n",
      "4-opt: []\n",
      "____R5____\n",
      "1-max: [ 5.  6.  8. 11. 14.]\n",
      "1-opt: [ 5.  6.  8. 11. 14.]\n",
      "2-max: [ 5.  6. 11.]\n",
      "2-opt: [ 5.  6. 11.]\n",
      "3-max: []\n",
      "3-opt: []\n",
      "4-max: []\n",
      "4-opt: []\n",
      "____R6____\n",
      "1-max: [ 4.  7.  8. 13. 14.]\n",
      "1-opt: [ 4.  7.  8. 13. 14.]\n",
      "2-max: [ 4.  8. 13.]\n",
      "2-opt: [ 4.  8. 13.]\n",
      "3-max: []\n",
      "3-opt: []\n",
      "4-max: []\n",
      "4-opt: []\n",
      "____R7____\n",
      "1-max: []\n",
      "1-opt: []\n",
      "2-max: []\n",
      "2-opt: []\n",
      "3-max: []\n",
      "3-opt: []\n",
      "4-max: []\n",
      "4-opt: []\n",
      "____R8____\n",
      "1-max: [ 1.  4.  7.  9. 10. 11.]\n",
      "1-opt: [ 1.  4.  7.  9. 10. 11.]\n",
      "2-max: [ 1.  4.  7.  9. 10. 11.]\n",
      "2-opt: [ 1.  4.  7.  9. 10. 11.]\n",
      "3-max: [ 1.  3.  5.  7. 11.]\n",
      "3-opt: []\n",
      "4-max: []\n",
      "4-opt: []\n",
      "____R9____\n",
      "1-max: [2.]\n",
      "1-opt: [2.]\n",
      "2-max: [2.]\n",
      "2-opt: [2.]\n",
      "3-max: []\n",
      "3-opt: []\n",
      "4-max: []\n",
      "4-opt: []\n"
     ]
    }
   ],
   "source": [
    "for num_r, r_i in zip(range(len(R)),R):\n",
    "    Rn = np.array(r_i)\n",
    "    parameters = k_optimization(Rn)\n",
    "    print_information_k_opt(parameters, num_r)"
   ]
  },
  {
   "cell_type": "code",
   "execution_count": 255,
   "metadata": {},
   "outputs": [],
   "source": [
    "def print_information_k_opt(parameters, num_r):\n",
    "    print(\"____R{}____\".format(num_r))\n",
    "    print(\"1-max: {}\".format(parameters[\"1_max\"]))\n",
    "    print(\"1-opt: {}\".format(parameters[\"1_opt\"]))\n",
    "    print(\"2-max: {}\".format(parameters[\"2_max\"]))\n",
    "    print(\"2-opt: {}\".format(parameters[\"2_opt\"]))\n",
    "    print(\"3-max: {}\".format(parameters[\"3_max\"]))\n",
    "    print(\"3-opt: {}\".format(parameters[\"3_opt\"]))\n",
    "    print(\"4-max: {}\".format(parameters[\"4_opt\"]))\n",
    "    print(\"4-opt: {}\".format(parameters[\"4_opt\"])) "
   ]
  },
  {
   "cell_type": "code",
   "execution_count": null,
   "metadata": {},
   "outputs": [],
   "source": []
  }
 ],
 "metadata": {
  "kernelspec": {
   "display_name": "Python 3",
   "language": "python",
   "name": "python3"
  },
  "language_info": {
   "codemirror_mode": {
    "name": "ipython",
    "version": 3
   },
   "file_extension": ".py",
   "mimetype": "text/x-python",
   "name": "python",
   "nbconvert_exporter": "python",
   "pygments_lexer": "ipython3",
   "version": "3.7.6"
  }
 },
 "nbformat": 4,
 "nbformat_minor": 4
}
