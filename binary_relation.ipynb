{
 "cells": [
  {
   "cell_type": "code",
   "execution_count": 4,
   "metadata": {},
   "outputs": [],
   "source": [
    "import numpy as np"
   ]
  },
  {
   "cell_type": "markdown",
   "metadata": {},
   "source": [
    "#### Read data from file"
   ]
  },
  {
   "cell_type": "code",
   "execution_count": 5,
   "metadata": {},
   "outputs": [],
   "source": [
    "with open (\"data.txt\", 'r') as data: #read data \n",
    "    dataset = [[int(x) for x in line.split()] for line in data]  "
   ]
  },
  {
   "cell_type": "code",
   "execution_count": 6,
   "metadata": {},
   "outputs": [
    {
     "name": "stdout",
     "output_type": "stream",
     "text": [
      "Number of R: 10\n"
     ]
    }
   ],
   "source": [
    "make_R = lambda lst, sz: [lst[i:i+sz] for i in range(0, len(lst), sz)]\n",
    "R = make_R(dataset, 15)\n",
    "print(\"Number of R: {}\".format(len(R)))"
   ]
  },
  {
   "cell_type": "markdown",
   "metadata": {},
   "source": [
    "#### K-optimization"
   ]
  },
  {
   "cell_type": "code",
   "execution_count": 7,
   "metadata": {},
   "outputs": [],
   "source": [
    "def check_x(S):\n",
    "    max_k = np.array([])\n",
    "    opt_k = np.array([])\n",
    "    for i, x in zip(range(len(S)),S):\n",
    "        if np.any(S-x > 0): #формуємо множину k-макс. елементів\n",
    "            continue\n",
    "        max_k = np.append(max_k, i+1)\n",
    "        if np.sum(x) == 15: #формуємо множину k-опт. елементів\n",
    "            opt_k = np.append(opt_k, i+1)\n",
    "        \n",
    "    return max_k, opt_k"
   ]
  },
  {
   "cell_type": "code",
   "execution_count": 8,
   "metadata": {},
   "outputs": [],
   "source": [
    "def k_optimization(Rn):\n",
    "    I = (Rn == Rn.T)*Rn #формуємо симетричну частину\n",
    "    P = Rn-I #формуємо асиметричну частину\n",
    "    N = (Rn == Rn.T)-I #формуємо відношення непорівнюваності\n",
    "    \n",
    "    for i in range(1,5):\n",
    "        if i==1:\n",
    "            S1=I+P+N\n",
    "            max_1, opt_1 = check_x(S1)\n",
    "        elif i==2:\n",
    "            S2=P+N\n",
    "            max_2, opt_2 = check_x(S2)\n",
    "        elif i==3:\n",
    "            S3=P+I\n",
    "            max_3, opt_3 = check_x(S3)\n",
    "        elif i==4:\n",
    "            S4=P\n",
    "            max_4, opt_4 = check_x(S4)\n",
    "            \n",
    "    parameters = {\"1_max\": max_1,\n",
    "                 \"1_opt\": opt_1,\n",
    "                 \"2_max\": max_2,\n",
    "                 \"2_opt\": opt_2,\n",
    "                 \"3_max\": max_3,\n",
    "                 \"3_opt\": opt_3,\n",
    "                 \"4_max\": max_4,\n",
    "                 \"4_opt\": opt_4}\n",
    "    \n",
    "    return parameters"
   ]
  },
  {
   "cell_type": "code",
   "execution_count": 18,
   "metadata": {},
   "outputs": [],
   "source": [
    "def print_information_k_opt(parameters, num_r):\n",
    "    print(\"____R{}____\".format(num_r))\n",
    "    print(\"1-max: {}\".format(parameters[\"1_max\"]))\n",
    "    print(\"1-opt: {}\".format(parameters[\"1_opt\"]))\n",
    "    print(\"2-max: {}\".format(parameters[\"2_max\"]))\n",
    "    print(\"2-opt: {}\".format(parameters[\"2_opt\"]))\n",
    "    print(\"3-max: {}\".format(parameters[\"3_max\"]))\n",
    "    print(\"3-opt: {}\".format(parameters[\"3_opt\"]))\n",
    "    print(\"4-max: {}\".format(parameters[\"4_max\"]))\n",
    "    print(\"4-opt: {}\".format(parameters[\"4_opt\"])) "
   ]
  },
  {
   "cell_type": "code",
   "execution_count": 19,
   "metadata": {
    "scrolled": true
   },
   "outputs": [
    {
     "name": "stdout",
     "output_type": "stream",
     "text": [
      "____R1____\n",
      "1-max: [3.]\n",
      "1-opt: [3.]\n",
      "2-max: [3.]\n",
      "2-opt: []\n",
      "3-max: [3.]\n",
      "3-opt: [3.]\n",
      "4-max: [3.]\n",
      "4-opt: []\n",
      "____R2____\n",
      "1-max: [3.]\n",
      "1-opt: [3.]\n",
      "2-max: [3.]\n",
      "2-opt: [3.]\n",
      "3-max: []\n",
      "3-opt: []\n",
      "4-max: []\n",
      "4-opt: []\n",
      "____R3____\n",
      "1-max: [2.]\n",
      "1-opt: [2.]\n",
      "2-max: [2.]\n",
      "2-opt: [2.]\n",
      "3-max: []\n",
      "3-opt: []\n",
      "4-max: []\n",
      "4-opt: []\n",
      "____R4____\n",
      "1-max: []\n",
      "1-opt: []\n",
      "2-max: []\n",
      "2-opt: []\n",
      "3-max: []\n",
      "3-opt: []\n",
      "4-max: []\n",
      "4-opt: []\n",
      "____R5____\n",
      "1-max: [1.]\n",
      "1-opt: [1.]\n",
      "2-max: [1.]\n",
      "2-opt: [1.]\n",
      "3-max: []\n",
      "3-opt: []\n",
      "4-max: []\n",
      "4-opt: []\n",
      "____R6____\n",
      "1-max: [ 5.  6.  8. 11. 14.]\n",
      "1-opt: [ 5.  6.  8. 11. 14.]\n",
      "2-max: [ 5.  6. 11.]\n",
      "2-opt: [ 5.  6. 11.]\n",
      "3-max: []\n",
      "3-opt: []\n",
      "4-max: [ 5.  6. 11.]\n",
      "4-opt: []\n",
      "____R7____\n",
      "1-max: [ 4.  7.  8. 13. 14.]\n",
      "1-opt: [ 4.  7.  8. 13. 14.]\n",
      "2-max: [ 4.  8. 13.]\n",
      "2-opt: [ 4.  8. 13.]\n",
      "3-max: []\n",
      "3-opt: []\n",
      "4-max: [ 4.  8. 13.]\n",
      "4-opt: []\n",
      "____R8____\n",
      "1-max: []\n",
      "1-opt: []\n",
      "2-max: []\n",
      "2-opt: []\n",
      "3-max: []\n",
      "3-opt: []\n",
      "4-max: []\n",
      "4-opt: []\n",
      "____R9____\n",
      "1-max: [ 1.  4.  7.  9. 10. 11.]\n",
      "1-opt: [ 1.  4.  7.  9. 10. 11.]\n",
      "2-max: [ 1.  4.  7.  9. 10. 11.]\n",
      "2-opt: [ 1.  4.  7.  9. 10. 11.]\n",
      "3-max: [ 1.  3.  5.  7. 11.]\n",
      "3-opt: []\n",
      "4-max: [ 1.  7. 11.]\n",
      "4-opt: []\n",
      "____R10____\n",
      "1-max: [2.]\n",
      "1-opt: [2.]\n",
      "2-max: [2.]\n",
      "2-opt: [2.]\n",
      "3-max: []\n",
      "3-opt: []\n",
      "4-max: []\n",
      "4-opt: []\n"
     ]
    }
   ],
   "source": [
    "for num_r, r_i in zip(range(len(R)),R):\n",
    "    Rn = np.array(r_i)\n",
    "    parameters = k_optimization(Rn)\n",
    "    print_information_k_opt(parameters, num_r+1)"
   ]
  },
  {
   "cell_type": "markdown",
   "metadata": {},
   "source": [
    "#### Neumann-Morgenstern optimization"
   ]
  },
  {
   "cell_type": "code",
   "execution_count": 68,
   "metadata": {},
   "outputs": [],
   "source": [
    "def Neumann_Morgenstern_optimization(Rn):\n",
    "    print(Rn)\n",
    "    \n",
    "    check_S0 = np.all(Rn == 0, axis=0, keepdims=True)\n",
    "    \n",
    "    print(\"check_s0:  \", check_S0)\n",
    "    \n",
    "    index_S0 = np.where(check_S0[0]==True)[0]\n",
    "    \n",
    "    print(\"index_S0   \", index_S0)\n",
    "    \n",
    "    S_candidate = {\"S0\": index_S0}\n",
    "    S = {\"S0\": index_S0}\n",
    "    \n",
    "    index_curr_S = 0\n",
    "    \n",
    "    print(\"______good__________________________________________________________\")\n",
    "    \n",
    "    while(len(S[\"S\"+str(index_curr_S)]) <= len(Rn)):#1 step \n",
    "        \n",
    "\n",
    "        print(\"---------current S index--------------\")\n",
    "        print(\"S\"+str(index_curr_S), \"     \", S[\"S\"+str(index_curr_S)])\n",
    "        \n",
    "        index_col = np.array([], dtype=int)\n",
    "        for index in S[\"S\"+str(index_curr_S)]:\n",
    "            index_col_with_true = np.where(Rn[index]==True)#індекси стовпців елеентів, що мають 1 на пертині з рядком\n",
    "            index_col = np.append(index_col, index_col_with_true) #массив для зберігання унікальних значень всіх індексів\n",
    "        index_col = np.unique(index_col)\n",
    "        print(\"inDEX COL\", index_col)\n",
    "    \n",
    "    \n",
    "        S_next = np.array([], dtype=int) \n",
    "        \n",
    "        for index in index_col:#перевіряємо кожен стовпець. що відповідає елементу. індекс якого ми запам'ятали\n",
    "            index_col_elements = np.where(Rn.T[index]==True) #індекси одиниць в колонках для подальшої перевірки на їх включення до S\n",
    "#             print(index_col_elements)#для кожної колонки де знах одиниці пам'ятаємо\n",
    "            inclusion_check = np.in1d(index_col_elements, S[\"S\"+str(index_curr_S)]) #включається ли колонка тольлько в строки из S \n",
    "#             print(\"INCLUSION CHECK\", inclusion_check)\n",
    "            \n",
    "            \n",
    "            if np.all(inclusion_check == True):\n",
    "                S_next = np.append(S_next, index) # альтернативи які будемо додавати. різниця між Sk -Sk-1\n",
    "                \n",
    "        print(\"s_next  добавление \", S_next)\n",
    "        \n",
    "        index_curr_S += 1\n",
    "\n",
    "        S_candidate[\"S\"+str(index_curr_S)] = S_next\n",
    "        S[\"S\"+str(index_curr_S)] = np.append(S[\"S\"+str(index_curr_S)], S_next)\n",
    "        \n",
    "        print(S)\n",
    "        print(S_candidate)\n",
    "        \n",
    "#         print(len(S[\"S\"+str(index_curr_S)]))\n",
    "#         print(len(Rn))\n",
    "        \n",
    "#     print(S[\"S\"+str(index_curr_S)])\n",
    "    \n",
    "#         print(index_col_elements) \n",
    "#         print(\"__________\")\n",
    "            \n",
    "\n",
    "\n",
    "\n",
    "\n",
    "\n"
   ]
  },
  {
   "cell_type": "code",
   "execution_count": 69,
   "metadata": {
    "scrolled": true
   },
   "outputs": [
    {
     "name": "stdout",
     "output_type": "stream",
     "text": [
      "[[0 0 0 0 0 0 0 0 0 0 0 0 0 0 0]\n",
      " [0 0 0 0 0 0 0 0 0 0 0 0 0 0 0]\n",
      " [0 0 0 1 0 0 0 0 0 0 0 0 0 0 0]\n",
      " [0 0 0 0 0 0 0 0 0 0 0 0 0 0 0]\n",
      " [1 1 1 1 0 0 1 0 1 1 0 1 1 0 1]\n",
      " [1 1 1 1 0 0 1 0 1 1 0 1 1 0 1]\n",
      " [0 0 0 0 0 0 1 0 1 1 0 1 1 0 0]\n",
      " [0 0 0 0 0 0 0 0 0 0 0 0 0 1 0]\n",
      " [0 0 0 0 0 0 1 0 1 1 0 1 1 0 0]\n",
      " [0 0 0 0 0 0 1 0 1 1 0 1 1 0 0]\n",
      " [1 1 1 1 0 0 1 0 1 1 0 1 1 0 1]\n",
      " [0 0 0 0 0 0 1 0 1 1 0 1 1 0 0]\n",
      " [0 0 0 0 0 0 1 0 1 1 0 1 1 0 0]\n",
      " [0 0 0 0 0 0 0 1 0 0 0 0 0 0 0]\n",
      " [0 1 0 0 0 0 0 0 0 0 0 0 0 0 0]]\n",
      "check_s0:   [[False False False False  True  True False False False False  True False\n",
      "  False False False]]\n",
      "index_S0    [ 4  5 10]\n",
      "______good__________________________________________________________\n",
      "---------current S index--------------\n",
      "S0       [ 4  5 10]\n",
      "inDEX COL [ 0  1  2  3  6  8  9 11 12 14]\n",
      "s_next  добавление  [ 0  2 14]\n"
     ]
    },
    {
     "ename": "KeyError",
     "evalue": "'S1'",
     "output_type": "error",
     "traceback": [
      "\u001b[0;31m---------------------------------------------------------------------------\u001b[0m",
      "\u001b[0;31mKeyError\u001b[0m                                  Traceback (most recent call last)",
      "\u001b[0;32m<ipython-input-69-64a07682a268>\u001b[0m in \u001b[0;36m<module>\u001b[0;34m\u001b[0m\n\u001b[0;32m----> 1\u001b[0;31m \u001b[0mNeumann_Morgenstern_optimization\u001b[0m\u001b[0;34m(\u001b[0m\u001b[0mnp\u001b[0m\u001b[0;34m.\u001b[0m\u001b[0marray\u001b[0m\u001b[0;34m(\u001b[0m\u001b[0mR\u001b[0m\u001b[0;34m[\u001b[0m\u001b[0;36m5\u001b[0m\u001b[0;34m]\u001b[0m\u001b[0;34m)\u001b[0m\u001b[0;34m)\u001b[0m\u001b[0;34m\u001b[0m\u001b[0;34m\u001b[0m\u001b[0m\n\u001b[0m",
      "\u001b[0;32m<ipython-input-68-1f6c2f936f8e>\u001b[0m in \u001b[0;36mNeumann_Morgenstern_optimization\u001b[0;34m(Rn)\u001b[0m\n\u001b[1;32m     48\u001b[0m \u001b[0;34m\u001b[0m\u001b[0m\n\u001b[1;32m     49\u001b[0m         \u001b[0mS_candidate\u001b[0m\u001b[0;34m[\u001b[0m\u001b[0;34m\"S\"\u001b[0m\u001b[0;34m+\u001b[0m\u001b[0mstr\u001b[0m\u001b[0;34m(\u001b[0m\u001b[0mindex_curr_S\u001b[0m\u001b[0;34m)\u001b[0m\u001b[0;34m]\u001b[0m \u001b[0;34m=\u001b[0m \u001b[0mS_next\u001b[0m\u001b[0;34m\u001b[0m\u001b[0;34m\u001b[0m\u001b[0m\n\u001b[0;32m---> 50\u001b[0;31m         \u001b[0mS\u001b[0m\u001b[0;34m[\u001b[0m\u001b[0;34m\"S\"\u001b[0m\u001b[0;34m+\u001b[0m\u001b[0mstr\u001b[0m\u001b[0;34m(\u001b[0m\u001b[0mindex_curr_S\u001b[0m\u001b[0;34m)\u001b[0m\u001b[0;34m]\u001b[0m \u001b[0;34m=\u001b[0m \u001b[0mnp\u001b[0m\u001b[0;34m.\u001b[0m\u001b[0mappend\u001b[0m\u001b[0;34m(\u001b[0m\u001b[0mS\u001b[0m\u001b[0;34m[\u001b[0m\u001b[0;34m\"S\"\u001b[0m\u001b[0;34m+\u001b[0m\u001b[0mstr\u001b[0m\u001b[0;34m(\u001b[0m\u001b[0mindex_curr_S\u001b[0m\u001b[0;34m)\u001b[0m\u001b[0;34m]\u001b[0m\u001b[0;34m,\u001b[0m \u001b[0mS_next\u001b[0m\u001b[0;34m)\u001b[0m\u001b[0;34m\u001b[0m\u001b[0;34m\u001b[0m\u001b[0m\n\u001b[0m\u001b[1;32m     51\u001b[0m \u001b[0;34m\u001b[0m\u001b[0m\n\u001b[1;32m     52\u001b[0m         \u001b[0mprint\u001b[0m\u001b[0;34m(\u001b[0m\u001b[0mS\u001b[0m\u001b[0;34m)\u001b[0m\u001b[0;34m\u001b[0m\u001b[0;34m\u001b[0m\u001b[0m\n",
      "\u001b[0;31mKeyError\u001b[0m: 'S1'"
     ]
    }
   ],
   "source": [
    "Neumann_Morgenstern_optimization(np.array(R[5]))"
   ]
  },
  {
   "cell_type": "markdown",
   "metadata": {},
   "source": [
    "#### Check acyclicity"
   ]
  },
  {
   "cell_type": "code",
   "execution_count": 20,
   "metadata": {},
   "outputs": [],
   "source": [
    "def acyclicity(matrix): \n",
    "    size = len(matrix)\n",
    "    oppos_matrix = opposite(matrix)\n",
    "    current_matrix = matrix[:]\n",
    "    if intersection(matrix, oppos_matrix).any():\n",
    "        return False\n",
    "    compos_matrix=composition(matrix,matrix)\n",
    "    while((compos_matrix == current_matrix).all()):\n",
    "        matrix = compos_matrix[:]\n",
    "        compos_matrix = composition(compos_matrix,matrix)\n",
    "        if intersection(matrix,oppos_matrix).any():\n",
    "            return False\n",
    "    return True\n",
    "\n",
    "def intersection(matrix1, matrix2):\n",
    "    size = len(matrix1)\n",
    "    intersection_matrix = np.empty((size,size))\n",
    "    for i in range(size):\n",
    "        for j in range(size):\n",
    "            intersection_matrix[i][j] = matrix1[i][j] and matrix2[i][j]\n",
    "    return intersection_matrix\n",
    "\n",
    "def composition(matrix1, matrix2): \n",
    "    size = len(matrix1)\n",
    "    compos_matrix = np.zeros((size,size))\n",
    "    for i in range(size):\n",
    "        for j in range(size):\n",
    "            if matrix1[i][j] == 1:\n",
    "                for k in range(size):\n",
    "                    if matrix2[j][k] == 1:\n",
    "                        compos_matrix[i][k] = 1\n",
    "    return compos_matrix\n",
    "\n",
    "def opposite(matrix): \n",
    "    return np.transpose(matrix)"
   ]
  },
  {
   "cell_type": "markdown",
   "metadata": {},
   "source": [
    "#### Сomputation"
   ]
  },
  {
   "cell_type": "code",
   "execution_count": 22,
   "metadata": {},
   "outputs": [
    {
     "name": "stdout",
     "output_type": "stream",
     "text": [
      "____R1____\n",
      "1-max: [3.]\n",
      "1-opt: [3.]\n",
      "2-max: [3.]\n",
      "2-opt: []\n",
      "3-max: [3.]\n",
      "3-opt: [3.]\n",
      "4-max: [3.]\n",
      "4-opt: []\n",
      "____R6____\n",
      "1-max: [ 5.  6.  8. 11. 14.]\n",
      "1-opt: [ 5.  6.  8. 11. 14.]\n",
      "2-max: [ 5.  6. 11.]\n",
      "2-opt: [ 5.  6. 11.]\n",
      "3-max: []\n",
      "3-opt: []\n",
      "4-max: [ 5.  6. 11.]\n",
      "4-opt: []\n",
      "____R7____\n",
      "1-max: [ 4.  7.  8. 13. 14.]\n",
      "1-opt: [ 4.  7.  8. 13. 14.]\n",
      "2-max: [ 4.  8. 13.]\n",
      "2-opt: [ 4.  8. 13.]\n",
      "3-max: []\n",
      "3-opt: []\n",
      "4-max: [ 4.  8. 13.]\n",
      "4-opt: []\n",
      "____R9____\n",
      "1-max: [ 1.  4.  7.  9. 10. 11.]\n",
      "1-opt: [ 1.  4.  7.  9. 10. 11.]\n",
      "2-max: [ 1.  4.  7.  9. 10. 11.]\n",
      "2-opt: [ 1.  4.  7.  9. 10. 11.]\n",
      "3-max: [ 1.  3.  5.  7. 11.]\n",
      "3-opt: []\n",
      "4-max: [ 1.  7. 11.]\n",
      "4-opt: []\n"
     ]
    }
   ],
   "source": [
    "for num_r, r_i in zip(range(len(R)),R):\n",
    "    Rn = np.array(r_i)\n",
    "    \n",
    "    if acyclicity(Rn):\n",
    "        pass\n",
    "    else:\n",
    "        parameters = k_optimization(Rn)\n",
    "        print_information_k_opt(parameters, num_r+1)\n"
   ]
  },
  {
   "cell_type": "code",
   "execution_count": 48,
   "metadata": {},
   "outputs": [
    {
     "data": {
      "text/plain": [
       "array([[0, 0, 0, 0, 0, 0, 0, 0, 0, 0, 0, 0, 0, 0, 0],\n",
       "       [0, 0, 0, 0, 0, 0, 0, 0, 0, 0, 0, 0, 0, 0, 0],\n",
       "       [0, 0, 0, 1, 0, 0, 0, 0, 0, 0, 0, 0, 0, 0, 0],\n",
       "       [0, 0, 0, 0, 0, 0, 0, 0, 0, 0, 0, 0, 0, 0, 0],\n",
       "       [1, 1, 1, 1, 0, 0, 1, 0, 1, 1, 0, 1, 1, 0, 1],\n",
       "       [1, 1, 1, 1, 0, 0, 1, 0, 1, 1, 0, 1, 1, 0, 1],\n",
       "       [0, 0, 0, 0, 0, 0, 1, 0, 1, 1, 0, 1, 1, 0, 0],\n",
       "       [0, 0, 0, 0, 0, 0, 0, 0, 0, 0, 0, 0, 0, 1, 0],\n",
       "       [0, 0, 0, 0, 0, 0, 1, 0, 1, 1, 0, 1, 1, 0, 0],\n",
       "       [0, 0, 0, 0, 0, 0, 1, 0, 1, 1, 0, 1, 1, 0, 0],\n",
       "       [1, 1, 1, 1, 0, 0, 1, 0, 1, 1, 0, 1, 1, 0, 1],\n",
       "       [0, 0, 0, 0, 0, 0, 1, 0, 1, 1, 0, 1, 1, 0, 0],\n",
       "       [0, 0, 0, 0, 0, 0, 1, 0, 1, 1, 0, 1, 1, 0, 0],\n",
       "       [0, 0, 0, 0, 0, 0, 0, 1, 0, 0, 0, 0, 0, 0, 0],\n",
       "       [0, 1, 0, 0, 0, 0, 0, 0, 0, 0, 0, 0, 0, 0, 0]])"
      ]
     },
     "execution_count": 48,
     "metadata": {},
     "output_type": "execute_result"
    }
   ],
   "source": [
    "np.array(R[5])"
   ]
  },
  {
   "cell_type": "code",
   "execution_count": null,
   "metadata": {},
   "outputs": [],
   "source": []
  }
 ],
 "metadata": {
  "kernelspec": {
   "display_name": "Python 3",
   "language": "python",
   "name": "python3"
  },
  "language_info": {
   "codemirror_mode": {
    "name": "ipython",
    "version": 3
   },
   "file_extension": ".py",
   "mimetype": "text/x-python",
   "name": "python",
   "nbconvert_exporter": "python",
   "pygments_lexer": "ipython3",
   "version": "3.7.6"
  }
 },
 "nbformat": 4,
 "nbformat_minor": 4
}
